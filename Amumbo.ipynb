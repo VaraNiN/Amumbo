{
 "cells": [
  {
   "cell_type": "code",
   "execution_count": 1,
   "id": "16a7fe07",
   "metadata": {},
   "outputs": [
    {
     "name": "stdout",
     "output_type": "stream",
     "text": [
      "Profit before Taxes: \t206.72%  448.30%\n",
      "\n",
      "Cost basis: \t\t  1.21€    1.74€\n",
      "Profit after Taxes:  \t123.41%  186.82%\n"
     ]
    }
   ],
   "source": [
    "import numpy as np\n",
    "\n",
    "years = 10   #Duration\n",
    "r_m = 1.1855 #Return p.a. synthetic\n",
    "r_r = 1.1186 #Return p.a. physical\n",
    "d_r = 0.04   #Percentage of yearly dividends\n",
    "\n",
    "\n",
    "mum = 1\n",
    "reg = 1\n",
    "k_m = 0\n",
    "k_r = 0\n",
    "\n",
    "for i in range(years):\n",
    "    k_m += mum * (r_m-1) * 0.6 * 0.275\n",
    "    mum *= r_m\n",
    "    \n",
    "    reg *= r_r\n",
    "    k_r += reg * d_r * 0.275\n",
    "    \n",
    "print(\"Profit before Taxes: \\t%.2f%%  %.2f%%\" %((reg - 1)*100, (mum - 1)*100))\n",
    "\n",
    "mum_b = 1 + k_m\n",
    "mum -= 0.4 * k_m / 0.6\n",
    "\n",
    "reg_b = 1 + k_r\n",
    "reg_e = 1 + k_r / 0.275\n",
    "reg -= (reg - reg_e) * 0.275\n",
    "\n",
    "print(\"\\nCost basis: \\t\\t  %.2f€    %.2f€\" %(reg_b, mum_b))\n",
    "\n",
    "mum_p = ((mum / mum_b) - 1) * 100\n",
    "reg_p = ((reg / reg_b) - 1) * 100\n",
    "\n",
    "print(\"Profit after Taxes:  \\t%.2f%%  %.2f%%\" %(reg_p, mum_p))"
   ]
  },
  {
   "cell_type": "code",
   "execution_count": null,
   "id": "47039cc6",
   "metadata": {},
   "outputs": [],
   "source": []
  }
 ],
 "metadata": {
  "kernelspec": {
   "display_name": "Python 3 (ipykernel)",
   "language": "python",
   "name": "python3"
  },
  "language_info": {
   "codemirror_mode": {
    "name": "ipython",
    "version": 3
   },
   "file_extension": ".py",
   "mimetype": "text/x-python",
   "name": "python",
   "nbconvert_exporter": "python",
   "pygments_lexer": "ipython3",
   "version": "3.9.12"
  }
 },
 "nbformat": 4,
 "nbformat_minor": 5
}
